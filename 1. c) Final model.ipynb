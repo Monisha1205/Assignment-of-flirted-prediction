{
 "cells": [
  {
   "cell_type": "code",
   "execution_count": 18,
   "id": "ded96e33",
   "metadata": {},
   "outputs": [
    {
     "name": "stdout",
     "output_type": "stream",
     "text": [
      "The second row is predicted to not be flirted.\n"
     ]
    }
   ],
   "source": [
    "import pandas as pd\n",
    "import pickle\n",
    "\n",
    "# Load the saved model\n",
    "with open('flirting_model.pkl', 'rb') as file:\n",
    "    model = pickle.load(file)\n",
    "\n",
    "# Load dataset\n",
    "df = pd.read_csv(\"flirting_rated.csv\")\n",
    "\n",
    "# Handle missing values\n",
    "df.dropna(inplace=True)\n",
    "\n",
    "# Preprocess the second row\n",
    "second_row = df['final_messages'].iloc[1]\n",
    "\n",
    "# Predict the second row\n",
    "predicted_label = model.predict([second_row])[0]\n",
    "if predicted_label == 1:\n",
    "    print(\"The second row is predicted to be flirted.\")\n",
    "else:\n",
    "    print(\"The second row is predicted to not be flirted.\")\n"
   ]
  },
  {
   "cell_type": "code",
   "execution_count": null,
   "id": "260a8a2b",
   "metadata": {},
   "outputs": [],
   "source": []
  }
 ],
 "metadata": {
  "kernelspec": {
   "display_name": "Python 3",
   "language": "python",
   "name": "python3"
  },
  "language_info": {
   "codemirror_mode": {
    "name": "ipython",
    "version": 3
   },
   "file_extension": ".py",
   "mimetype": "text/x-python",
   "name": "python",
   "nbconvert_exporter": "python",
   "pygments_lexer": "ipython3",
   "version": "3.7.6"
  }
 },
 "nbformat": 4,
 "nbformat_minor": 5
}
